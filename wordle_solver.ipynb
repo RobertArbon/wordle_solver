{
 "cells": [
  {
   "cell_type": "code",
   "execution_count": 87,
   "id": "85ecf338-1867-46a8-89d9-d14a50dbfa69",
   "metadata": {},
   "outputs": [],
   "source": [
    "from pathlib import Path\n",
    "from scipy.stats import entropy\n",
    "import pandas as pd\n",
    "import seaborn as sns"
   ]
  },
  {
   "cell_type": "markdown",
   "id": "04578a58-59cc-4a2e-bad0-46690eca3cf6",
   "metadata": {},
   "source": [
    "This notebook calculates the entropy of each potential guess by looping over all potential 'targets' (the word you're trying to guess) from a word list and then calculates the distributions of outcomes ('guess_pmf').  The entropy of that distribution is the entropy of the guess. "
   ]
  },
  {
   "cell_type": "code",
   "execution_count": 91,
   "id": "7b6a4391-230f-4232-a936-ae0bb1ee79d1",
   "metadata": {},
   "outputs": [],
   "source": [
    "def result(guess, target): \n",
    "    res = [-1, -1, -1, -1, -1]\n",
    "    for i, let in enumerate(guess):\n",
    "        if let == target[i]:\n",
    "            res[i] = 1\n",
    "        elif let in target:\n",
    "            res[i] = 0\n",
    "        else:\n",
    "            pass\n",
    "    return tuple(res)\n",
    "        \n",
    "\n",
    "def guess_pmf(guess, word_list): \n",
    "    pmf = {}\n",
    "    for target in word_list: \n",
    "        res = result(guess, target)\n",
    "        try: \n",
    "            pmf[res] += 1\n",
    "        except KeyError: \n",
    "            pmf[res] = 1\n",
    "    return pmf\n",
    "   \n",
    "def guess_entropy(pmf): \n",
    "    return entropy(list(pmf.values()), base=2)\n",
    "\n",
    "\n"
   ]
  },
  {
   "cell_type": "code",
   "execution_count": 98,
   "id": "1022f2dc-f2a6-49a5-9ff0-8eab174b8b0f",
   "metadata": {},
   "outputs": [],
   "source": [
    "words = Path('word_list.txt').open('rt').readlines()\n",
    "words = [x.strip() for x in words]\n",
    "word_list = [x for x in words if len(x)==5]\n",
    "\n",
    "data = {'guess': [], 'entropy': []}\n",
    "\n",
    "for guess in word_list: \n",
    "    pmf = guess_pmf(guess, word_list)\n",
    "    ent = guess_entropy(pmf)\n",
    "    data['guess'].append(guess) \n",
    "    data['entropy'].append(ent)\n",
    "\n",
    "df = pd.DataFrame(data)\n",
    "df = df.sort_values(by='entropy', ascending=False)"
   ]
  },
  {
   "cell_type": "code",
   "execution_count": 99,
   "id": "9a63b2f4-510d-46b3-9d7e-85ea0f3dd672",
   "metadata": {},
   "outputs": [
    {
     "data": {
      "text/html": [
       "<div>\n",
       "<style scoped>\n",
       "    .dataframe tbody tr th:only-of-type {\n",
       "        vertical-align: middle;\n",
       "    }\n",
       "\n",
       "    .dataframe tbody tr th {\n",
       "        vertical-align: top;\n",
       "    }\n",
       "\n",
       "    .dataframe thead th {\n",
       "        text-align: right;\n",
       "    }\n",
       "</style>\n",
       "<table border=\"1\" class=\"dataframe\">\n",
       "  <thead>\n",
       "    <tr style=\"text-align: right;\">\n",
       "      <th></th>\n",
       "      <th>guess</th>\n",
       "      <th>entropy</th>\n",
       "    </tr>\n",
       "  </thead>\n",
       "  <tbody>\n",
       "    <tr>\n",
       "      <th>1534</th>\n",
       "      <td>raise</td>\n",
       "      <td>5.877910</td>\n",
       "    </tr>\n",
       "    <tr>\n",
       "      <th>1189</th>\n",
       "      <td>mamma</td>\n",
       "      <td>2.268546</td>\n",
       "    </tr>\n",
       "  </tbody>\n",
       "</table>\n",
       "</div>"
      ],
      "text/plain": [
       "      guess   entropy\n",
       "1534  raise  5.877910\n",
       "1189  mamma  2.268546"
      ]
     },
     "execution_count": 99,
     "metadata": {},
     "output_type": "execute_result"
    }
   ],
   "source": [
    "df.iloc[[0, -1], :]"
   ]
  },
  {
   "cell_type": "code",
   "execution_count": 100,
   "id": "f17a989b-ba6a-4dd1-907c-979742fdd15f",
   "metadata": {},
   "outputs": [
    {
     "data": {
      "text/plain": [
       "<seaborn.axisgrid.FacetGrid at 0x7fb501909910>"
      ]
     },
     "execution_count": 100,
     "metadata": {},
     "output_type": "execute_result"
    },
    {
     "data": {
      "image/png": "[encoded data removed]",
      "text/plain": [
       "<Figure size 434.375x360 with 1 Axes>"
      ]
     },
     "metadata": {
      "needs_background": "light"
     },
     "output_type": "display_data"
    }
   ],
   "source": [
    "sns.displot(df, kind='hist')"
   ]
  },
  {
   "cell_type": "code",
   "execution_count": null,
   "id": "4e3dbac9-9eff-44d1-8b05-3aec5c2f09a6",
   "metadata": {},
   "outputs": [],
   "source": []
  }
 ],
 "metadata": {
  "kernelspec": {
   "display_name": "Python 3 (ipykernel)",
   "language": "python",
   "name": "python3"
  },
  "language_info": {
   "codemirror_mode": {
    "name": "ipython",
    "version": 3
   },
   "file_extension": ".py",
   "mimetype": "text/x-python",
   "name": "python",
   "nbconvert_exporter": "python",
   "pygments_lexer": "ipython3",
   "version": "3.9.0"
  }
 },
 "nbformat": 4,
 "nbformat_minor": 5
}
